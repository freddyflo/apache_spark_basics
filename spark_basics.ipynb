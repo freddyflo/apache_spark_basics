{
 "cells": [
  {
   "cell_type": "markdown",
   "metadata": {},
   "source": [
    "### Install pyspark, pandas "
   ]
  },
  {
   "cell_type": "code",
   "execution_count": 9,
   "metadata": {},
   "outputs": [
    {
     "name": "stdout",
     "output_type": "stream",
     "text": [
      "Requirement already satisfied: pyspark in ./venv/lib/python3.9/site-packages (3.5.1)\n",
      "Requirement already satisfied: pandas in ./venv/lib/python3.9/site-packages (2.2.2)\n",
      "Requirement already satisfied: py4j==0.10.9.7 in ./venv/lib/python3.9/site-packages (from pyspark) (0.10.9.7)\n",
      "Requirement already satisfied: numpy>=1.22.4 in ./venv/lib/python3.9/site-packages (from pandas) (2.0.1)\n",
      "Requirement already satisfied: python-dateutil>=2.8.2 in ./venv/lib/python3.9/site-packages (from pandas) (2.9.0.post0)\n",
      "Requirement already satisfied: pytz>=2020.1 in ./venv/lib/python3.9/site-packages (from pandas) (2024.1)\n",
      "Requirement already satisfied: tzdata>=2022.7 in ./venv/lib/python3.9/site-packages (from pandas) (2024.1)\n",
      "Requirement already satisfied: six>=1.5 in ./venv/lib/python3.9/site-packages (from python-dateutil>=2.8.2->pandas) (1.16.0)\n",
      "\n",
      "\u001b[1m[\u001b[0m\u001b[34;49mnotice\u001b[0m\u001b[1;39;49m]\u001b[0m\u001b[39;49m A new release of pip is available: \u001b[0m\u001b[31;49m24.0\u001b[0m\u001b[39;49m -> \u001b[0m\u001b[32;49m24.1.2\u001b[0m\n",
      "\u001b[1m[\u001b[0m\u001b[34;49mnotice\u001b[0m\u001b[1;39;49m]\u001b[0m\u001b[39;49m To update, run: \u001b[0m\u001b[32;49mpip install --upgrade pip\u001b[0m\n"
     ]
    }
   ],
   "source": [
    "!pip install pyspark pandas\n"
   ]
  },
  {
   "cell_type": "markdown",
   "metadata": {},
   "source": [
    "### Import pyspark"
   ]
  },
  {
   "cell_type": "code",
   "execution_count": 2,
   "metadata": {},
   "outputs": [],
   "source": [
    "import pyspark"
   ]
  },
  {
   "cell_type": "markdown",
   "metadata": {},
   "source": [
    "### Load sample dataset using Pandas\n",
    "Get sample CSV file from [wsform](https://wsform.com/knowledgebase/sample-csv-files/)"
   ]
  },
  {
   "cell_type": "code",
   "execution_count": 16,
   "metadata": {},
   "outputs": [
    {
     "data": {
      "text/html": [
       "<div>\n",
       "<style scoped>\n",
       "    .dataframe tbody tr th:only-of-type {\n",
       "        vertical-align: middle;\n",
       "    }\n",
       "\n",
       "    .dataframe tbody tr th {\n",
       "        vertical-align: top;\n",
       "    }\n",
       "\n",
       "    .dataframe thead th {\n",
       "        text-align: right;\n",
       "    }\n",
       "</style>\n",
       "<table border=\"1\" class=\"dataframe\">\n",
       "  <thead>\n",
       "    <tr style=\"text-align: right;\">\n",
       "      <th></th>\n",
       "      <th>name</th>\n",
       "      <th>alpha-2</th>\n",
       "      <th>alpha-3</th>\n",
       "      <th>country-code</th>\n",
       "      <th>iso_3166-2</th>\n",
       "      <th>region</th>\n",
       "      <th>sub-region</th>\n",
       "      <th>intermediate-region</th>\n",
       "      <th>region-code</th>\n",
       "      <th>sub-region-code</th>\n",
       "      <th>intermediate-region-code</th>\n",
       "    </tr>\n",
       "  </thead>\n",
       "  <tbody>\n",
       "    <tr>\n",
       "      <th>0</th>\n",
       "      <td>Afghanistan</td>\n",
       "      <td>AF</td>\n",
       "      <td>AFG</td>\n",
       "      <td>4</td>\n",
       "      <td>ISO 3166-2:AF</td>\n",
       "      <td>Asia</td>\n",
       "      <td>Southern Asia</td>\n",
       "      <td>NaN</td>\n",
       "      <td>142.0</td>\n",
       "      <td>34.0</td>\n",
       "      <td>NaN</td>\n",
       "    </tr>\n",
       "    <tr>\n",
       "      <th>1</th>\n",
       "      <td>Åland Islands</td>\n",
       "      <td>AX</td>\n",
       "      <td>ALA</td>\n",
       "      <td>248</td>\n",
       "      <td>ISO 3166-2:AX</td>\n",
       "      <td>Europe</td>\n",
       "      <td>Northern Europe</td>\n",
       "      <td>NaN</td>\n",
       "      <td>150.0</td>\n",
       "      <td>154.0</td>\n",
       "      <td>NaN</td>\n",
       "    </tr>\n",
       "    <tr>\n",
       "      <th>2</th>\n",
       "      <td>Albania</td>\n",
       "      <td>AL</td>\n",
       "      <td>ALB</td>\n",
       "      <td>8</td>\n",
       "      <td>ISO 3166-2:AL</td>\n",
       "      <td>Europe</td>\n",
       "      <td>Southern Europe</td>\n",
       "      <td>NaN</td>\n",
       "      <td>150.0</td>\n",
       "      <td>39.0</td>\n",
       "      <td>NaN</td>\n",
       "    </tr>\n",
       "    <tr>\n",
       "      <th>3</th>\n",
       "      <td>Algeria</td>\n",
       "      <td>DZ</td>\n",
       "      <td>DZA</td>\n",
       "      <td>12</td>\n",
       "      <td>ISO 3166-2:DZ</td>\n",
       "      <td>Africa</td>\n",
       "      <td>Northern Africa</td>\n",
       "      <td>NaN</td>\n",
       "      <td>2.0</td>\n",
       "      <td>15.0</td>\n",
       "      <td>NaN</td>\n",
       "    </tr>\n",
       "    <tr>\n",
       "      <th>4</th>\n",
       "      <td>American Samoa</td>\n",
       "      <td>AS</td>\n",
       "      <td>ASM</td>\n",
       "      <td>16</td>\n",
       "      <td>ISO 3166-2:AS</td>\n",
       "      <td>Oceania</td>\n",
       "      <td>Polynesia</td>\n",
       "      <td>NaN</td>\n",
       "      <td>9.0</td>\n",
       "      <td>61.0</td>\n",
       "      <td>NaN</td>\n",
       "    </tr>\n",
       "    <tr>\n",
       "      <th>...</th>\n",
       "      <td>...</td>\n",
       "      <td>...</td>\n",
       "      <td>...</td>\n",
       "      <td>...</td>\n",
       "      <td>...</td>\n",
       "      <td>...</td>\n",
       "      <td>...</td>\n",
       "      <td>...</td>\n",
       "      <td>...</td>\n",
       "      <td>...</td>\n",
       "      <td>...</td>\n",
       "    </tr>\n",
       "    <tr>\n",
       "      <th>244</th>\n",
       "      <td>Wallis and Futuna</td>\n",
       "      <td>WF</td>\n",
       "      <td>WLF</td>\n",
       "      <td>876</td>\n",
       "      <td>ISO 3166-2:WF</td>\n",
       "      <td>Oceania</td>\n",
       "      <td>Polynesia</td>\n",
       "      <td>NaN</td>\n",
       "      <td>9.0</td>\n",
       "      <td>61.0</td>\n",
       "      <td>NaN</td>\n",
       "    </tr>\n",
       "    <tr>\n",
       "      <th>245</th>\n",
       "      <td>Western Sahara</td>\n",
       "      <td>EH</td>\n",
       "      <td>ESH</td>\n",
       "      <td>732</td>\n",
       "      <td>ISO 3166-2:EH</td>\n",
       "      <td>Africa</td>\n",
       "      <td>Northern Africa</td>\n",
       "      <td>NaN</td>\n",
       "      <td>2.0</td>\n",
       "      <td>15.0</td>\n",
       "      <td>NaN</td>\n",
       "    </tr>\n",
       "    <tr>\n",
       "      <th>246</th>\n",
       "      <td>Yemen</td>\n",
       "      <td>YE</td>\n",
       "      <td>YEM</td>\n",
       "      <td>887</td>\n",
       "      <td>ISO 3166-2:YE</td>\n",
       "      <td>Asia</td>\n",
       "      <td>Western Asia</td>\n",
       "      <td>NaN</td>\n",
       "      <td>142.0</td>\n",
       "      <td>145.0</td>\n",
       "      <td>NaN</td>\n",
       "    </tr>\n",
       "    <tr>\n",
       "      <th>247</th>\n",
       "      <td>Zambia</td>\n",
       "      <td>ZM</td>\n",
       "      <td>ZMB</td>\n",
       "      <td>894</td>\n",
       "      <td>ISO 3166-2:ZM</td>\n",
       "      <td>Africa</td>\n",
       "      <td>Sub-Saharan Africa</td>\n",
       "      <td>Eastern Africa</td>\n",
       "      <td>2.0</td>\n",
       "      <td>202.0</td>\n",
       "      <td>14.0</td>\n",
       "    </tr>\n",
       "    <tr>\n",
       "      <th>248</th>\n",
       "      <td>Zimbabwe</td>\n",
       "      <td>ZW</td>\n",
       "      <td>ZWE</td>\n",
       "      <td>716</td>\n",
       "      <td>ISO 3166-2:ZW</td>\n",
       "      <td>Africa</td>\n",
       "      <td>Sub-Saharan Africa</td>\n",
       "      <td>Eastern Africa</td>\n",
       "      <td>2.0</td>\n",
       "      <td>202.0</td>\n",
       "      <td>14.0</td>\n",
       "    </tr>\n",
       "  </tbody>\n",
       "</table>\n",
       "<p>249 rows × 11 columns</p>\n",
       "</div>"
      ],
      "text/plain": [
       "                  name alpha-2 alpha-3  country-code     iso_3166-2   region  \\\n",
       "0          Afghanistan      AF     AFG             4  ISO 3166-2:AF     Asia   \n",
       "1        Åland Islands      AX     ALA           248  ISO 3166-2:AX   Europe   \n",
       "2              Albania      AL     ALB             8  ISO 3166-2:AL   Europe   \n",
       "3              Algeria      DZ     DZA            12  ISO 3166-2:DZ   Africa   \n",
       "4       American Samoa      AS     ASM            16  ISO 3166-2:AS  Oceania   \n",
       "..                 ...     ...     ...           ...            ...      ...   \n",
       "244  Wallis and Futuna      WF     WLF           876  ISO 3166-2:WF  Oceania   \n",
       "245     Western Sahara      EH     ESH           732  ISO 3166-2:EH   Africa   \n",
       "246              Yemen      YE     YEM           887  ISO 3166-2:YE     Asia   \n",
       "247             Zambia      ZM     ZMB           894  ISO 3166-2:ZM   Africa   \n",
       "248           Zimbabwe      ZW     ZWE           716  ISO 3166-2:ZW   Africa   \n",
       "\n",
       "             sub-region intermediate-region  region-code  sub-region-code  \\\n",
       "0         Southern Asia                 NaN        142.0             34.0   \n",
       "1       Northern Europe                 NaN        150.0            154.0   \n",
       "2       Southern Europe                 NaN        150.0             39.0   \n",
       "3       Northern Africa                 NaN          2.0             15.0   \n",
       "4             Polynesia                 NaN          9.0             61.0   \n",
       "..                  ...                 ...          ...              ...   \n",
       "244           Polynesia                 NaN          9.0             61.0   \n",
       "245     Northern Africa                 NaN          2.0             15.0   \n",
       "246        Western Asia                 NaN        142.0            145.0   \n",
       "247  Sub-Saharan Africa      Eastern Africa          2.0            202.0   \n",
       "248  Sub-Saharan Africa      Eastern Africa          2.0            202.0   \n",
       "\n",
       "     intermediate-region-code  \n",
       "0                         NaN  \n",
       "1                         NaN  \n",
       "2                         NaN  \n",
       "3                         NaN  \n",
       "4                         NaN  \n",
       "..                        ...  \n",
       "244                       NaN  \n",
       "245                       NaN  \n",
       "246                       NaN  \n",
       "247                      14.0  \n",
       "248                      14.0  \n",
       "\n",
       "[249 rows x 11 columns]"
      ]
     },
     "execution_count": 16,
     "metadata": {},
     "output_type": "execute_result"
    }
   ],
   "source": [
    "import pandas as pd\n",
    "pd.read_csv('country_full.csv')"
   ]
  },
  {
   "cell_type": "code",
   "execution_count": null,
   "metadata": {},
   "outputs": [],
   "source": [
    "type(df_pyspark)"
   ]
  },
  {
   "cell_type": "markdown",
   "metadata": {},
   "source": [
    "### Start a spark session"
   ]
  },
  {
   "cell_type": "code",
   "execution_count": 22,
   "metadata": {},
   "outputs": [],
   "source": [
    "from pyspark.sql import SparkSession"
   ]
  },
  {
   "cell_type": "code",
   "execution_count": 23,
   "metadata": {},
   "outputs": [],
   "source": [
    "spark=SparkSession.builder.appName('Practise').getOrCreate()"
   ]
  },
  {
   "cell_type": "code",
   "execution_count": 24,
   "metadata": {},
   "outputs": [
    {
     "data": {
      "text/html": [
       "\n",
       "            <div>\n",
       "                <p><b>SparkSession - in-memory</b></p>\n",
       "                \n",
       "        <div>\n",
       "            <p><b>SparkContext</b></p>\n",
       "\n",
       "            <p><a href=\"http://mbp-de-fred.lan:4040\">Spark UI</a></p>\n",
       "\n",
       "            <dl>\n",
       "              <dt>Version</dt>\n",
       "                <dd><code>v3.5.1</code></dd>\n",
       "              <dt>Master</dt>\n",
       "                <dd><code>local[*]</code></dd>\n",
       "              <dt>AppName</dt>\n",
       "                <dd><code>Practise</code></dd>\n",
       "            </dl>\n",
       "        </div>\n",
       "        \n",
       "            </div>\n",
       "        "
      ],
      "text/plain": [
       "<pyspark.sql.session.SparkSession at 0x11566e040>"
      ]
     },
     "execution_count": 24,
     "metadata": {},
     "output_type": "execute_result"
    }
   ],
   "source": [
    "spark"
   ]
  },
  {
   "cell_type": "markdown",
   "metadata": {},
   "source": [
    "### Read a csv file\n",
    "Get sample CSV file from [wsform](https://wsform.com/knowledgebase/sample-csv-files/)"
   ]
  },
  {
   "cell_type": "code",
   "execution_count": 29,
   "metadata": {},
   "outputs": [],
   "source": [
    "df_pyspark = spark.read.csv('country_full.csv')"
   ]
  },
  {
   "cell_type": "code",
   "execution_count": 38,
   "metadata": {},
   "outputs": [],
   "source": [
    "df_pyspark = spark.read.option('header', 'true').csv('country_full.csv')"
   ]
  },
  {
   "cell_type": "code",
   "execution_count": 39,
   "metadata": {},
   "outputs": [
    {
     "data": {
      "text/plain": [
       "pyspark.sql.dataframe.DataFrame"
      ]
     },
     "execution_count": 39,
     "metadata": {},
     "output_type": "execute_result"
    }
   ],
   "source": [
    "type(df_pyspark)"
   ]
  },
  {
   "cell_type": "code",
   "execution_count": 40,
   "metadata": {},
   "outputs": [
    {
     "data": {
      "text/plain": [
       "[Row(name='Afghanistan', alpha-2='AF', alpha-3='AFG', country-code='004', iso_3166-2='ISO 3166-2:AF', region='Asia', sub-region='Southern Asia', intermediate-region=None, region-code='142', sub-region-code='034', intermediate-region-code=None),\n",
       " Row(name='Åland Islands', alpha-2='AX', alpha-3='ALA', country-code='248', iso_3166-2='ISO 3166-2:AX', region='Europe', sub-region='Northern Europe', intermediate-region=None, region-code='150', sub-region-code='154', intermediate-region-code=None),\n",
       " Row(name='Albania', alpha-2='AL', alpha-3='ALB', country-code='008', iso_3166-2='ISO 3166-2:AL', region='Europe', sub-region='Southern Europe', intermediate-region=None, region-code='150', sub-region-code='039', intermediate-region-code=None)]"
      ]
     },
     "execution_count": 40,
     "metadata": {},
     "output_type": "execute_result"
    }
   ],
   "source": [
    "df_pyspark.head(3)"
   ]
  },
  {
   "cell_type": "code",
   "execution_count": 41,
   "metadata": {},
   "outputs": [
    {
     "name": "stdout",
     "output_type": "stream",
     "text": [
      "root\n",
      " |-- name: string (nullable = true)\n",
      " |-- alpha-2: string (nullable = true)\n",
      " |-- alpha-3: string (nullable = true)\n",
      " |-- country-code: string (nullable = true)\n",
      " |-- iso_3166-2: string (nullable = true)\n",
      " |-- region: string (nullable = true)\n",
      " |-- sub-region: string (nullable = true)\n",
      " |-- intermediate-region: string (nullable = true)\n",
      " |-- region-code: string (nullable = true)\n",
      " |-- sub-region-code: string (nullable = true)\n",
      " |-- intermediate-region-code: string (nullable = true)\n",
      "\n"
     ]
    }
   ],
   "source": [
    "df_pyspark.printSchema()"
   ]
  },
  {
   "cell_type": "markdown",
   "metadata": {},
   "source": [
    "### PySpark DataFrames\n",
    "- Reading dataset\n",
    "- checking the datatypes of column\n",
    "- selecting columns and indexing\n",
    "- check describe option similar to pandas\n",
    "- adding columns \n",
    "- dropping columns \n",
    "- renaming columns"
   ]
  },
  {
   "cell_type": "code",
   "execution_count": 46,
   "metadata": {},
   "outputs": [],
   "source": [
    "## read dataset\n",
    "df_pyspark = spark.read.option('header', 'true').csv('country_full.csv', inferSchema=True)"
   ]
  },
  {
   "cell_type": "code",
   "execution_count": 47,
   "metadata": {},
   "outputs": [
    {
     "name": "stdout",
     "output_type": "stream",
     "text": [
      "root\n",
      " |-- name: string (nullable = true)\n",
      " |-- alpha-2: string (nullable = true)\n",
      " |-- alpha-3: string (nullable = true)\n",
      " |-- country-code: integer (nullable = true)\n",
      " |-- iso_3166-2: string (nullable = true)\n",
      " |-- region: string (nullable = true)\n",
      " |-- sub-region: string (nullable = true)\n",
      " |-- intermediate-region: string (nullable = true)\n",
      " |-- region-code: integer (nullable = true)\n",
      " |-- sub-region-code: integer (nullable = true)\n",
      " |-- intermediate-region-code: integer (nullable = true)\n",
      "\n"
     ]
    }
   ],
   "source": [
    "### check the schema\n",
    "df_pyspark.printSchema()"
   ]
  },
  {
   "cell_type": "code",
   "execution_count": 49,
   "metadata": {},
   "outputs": [
    {
     "data": {
      "text/plain": [
       "['name',\n",
       " 'alpha-2',\n",
       " 'alpha-3',\n",
       " 'country-code',\n",
       " 'iso_3166-2',\n",
       " 'region',\n",
       " 'sub-region',\n",
       " 'intermediate-region',\n",
       " 'region-code',\n",
       " 'sub-region-code',\n",
       " 'intermediate-region-code']"
      ]
     },
     "execution_count": 49,
     "metadata": {},
     "output_type": "execute_result"
    }
   ],
   "source": [
    "## Get columns names \n",
    "df_pyspark.columns"
   ]
  },
  {
   "cell_type": "code",
   "execution_count": 52,
   "metadata": {},
   "outputs": [
    {
     "name": "stdout",
     "output_type": "stream",
     "text": [
      "+-------------------+------------+--------+\n",
      "|               name|country-code|  region|\n",
      "+-------------------+------------+--------+\n",
      "|        Afghanistan|           4|    Asia|\n",
      "|      Åland Islands|         248|  Europe|\n",
      "|            Albania|           8|  Europe|\n",
      "|            Algeria|          12|  Africa|\n",
      "|     American Samoa|          16| Oceania|\n",
      "|            Andorra|          20|  Europe|\n",
      "|             Angola|          24|  Africa|\n",
      "|           Anguilla|         660|Americas|\n",
      "|         Antarctica|          10|    NULL|\n",
      "|Antigua and Barbuda|          28|Americas|\n",
      "|          Argentina|          32|Americas|\n",
      "|            Armenia|          51|    Asia|\n",
      "|              Aruba|         533|Americas|\n",
      "|          Australia|          36| Oceania|\n",
      "|            Austria|          40|  Europe|\n",
      "|         Azerbaijan|          31|    Asia|\n",
      "|            Bahamas|          44|Americas|\n",
      "|            Bahrain|          48|    Asia|\n",
      "|         Bangladesh|          50|    Asia|\n",
      "|           Barbados|          52|Americas|\n",
      "+-------------------+------------+--------+\n",
      "only showing top 20 rows\n",
      "\n"
     ]
    }
   ],
   "source": [
    "## selecting columns\n",
    "df_pyspark.select(['name', 'country-code', 'region']).show()"
   ]
  },
  {
   "cell_type": "code",
   "execution_count": 54,
   "metadata": {},
   "outputs": [
    {
     "data": {
      "text/plain": [
       "[('name', 'string'),\n",
       " ('alpha-2', 'string'),\n",
       " ('alpha-3', 'string'),\n",
       " ('country-code', 'int'),\n",
       " ('iso_3166-2', 'string'),\n",
       " ('region', 'string'),\n",
       " ('sub-region', 'string'),\n",
       " ('intermediate-region', 'string'),\n",
       " ('region-code', 'int'),\n",
       " ('sub-region-code', 'int'),\n",
       " ('intermediate-region-code', 'int')]"
      ]
     },
     "execution_count": 54,
     "metadata": {},
     "output_type": "execute_result"
    }
   ],
   "source": [
    "## check data types\n",
    "df_pyspark.dtypes"
   ]
  },
  {
   "cell_type": "code",
   "execution_count": 56,
   "metadata": {},
   "outputs": [
    {
     "name": "stderr",
     "output_type": "stream",
     "text": [
      "24/07/27 09:21:49 WARN SparkStringUtils: Truncated the string representation of a plan since it was too large. This behavior can be adjusted by setting 'spark.sql.debug.maxToStringFields'.\n"
     ]
    },
    {
     "name": "stdout",
     "output_type": "stream",
     "text": [
      "+-------+-------------+-------+-------+------------------+-------------+-------+--------------------+-------------------+-----------------+------------------+------------------------+\n",
      "|summary|         name|alpha-2|alpha-3|      country-code|   iso_3166-2| region|          sub-region|intermediate-region|      region-code|   sub-region-code|intermediate-region-code|\n",
      "+-------+-------------+-------+-------+------------------+-------------+-------+--------------------+-------------------+-----------------+------------------+------------------------+\n",
      "|  count|          249|    249|    249|               249|          249|    248|                 248|                107|              248|               248|                     107|\n",
      "|   mean|         NULL|   NULL|   NULL|433.83534136546183|         NULL|   NULL|                NULL|               NULL|65.95161290322581|179.86693548387098|        31.7196261682243|\n",
      "| stddev|         NULL|   NULL|   NULL|252.98044557381454|         NULL|   NULL|                NULL|               NULL|67.34783175969469|138.33416984258199|      111.00032248742234|\n",
      "|    min|  Afghanistan|     AD|    ABW|                 4|ISO 3166-2:AD| Africa|Australia and New...|          Caribbean|                2|                15|                       5|\n",
      "|    max|Åland Islands|     ZW|    ZWE|               894|ISO 3166-2:ZW|Oceania|      Western Europe|     Western Africa|              150|               419|                     830|\n",
      "+-------+-------------+-------+-------+------------------+-------------+-------+--------------------+-------------------+-----------------+------------------+------------------------+\n",
      "\n"
     ]
    }
   ],
   "source": [
    "## check describe option \n",
    "df_pyspark.describe().show()"
   ]
  },
  {
   "cell_type": "code",
   "execution_count": 61,
   "metadata": {},
   "outputs": [],
   "source": [
    "## adding columns in dataframe \n",
    "df_pyspark = df_pyspark.withColumn('city', df_pyspark['region'])"
   ]
  },
  {
   "cell_type": "code",
   "execution_count": 62,
   "metadata": {},
   "outputs": [
    {
     "name": "stdout",
     "output_type": "stream",
     "text": [
      "+-------------------+-------+-------+------------+-------------+--------+--------------------+-------------------+-----------+---------------+------------------------+--------+\n",
      "|               name|alpha-2|alpha-3|country-code|   iso_3166-2|  region|          sub-region|intermediate-region|region-code|sub-region-code|intermediate-region-code|    city|\n",
      "+-------------------+-------+-------+------------+-------------+--------+--------------------+-------------------+-----------+---------------+------------------------+--------+\n",
      "|        Afghanistan|     AF|    AFG|           4|ISO 3166-2:AF|    Asia|       Southern Asia|               NULL|        142|             34|                    NULL|    Asia|\n",
      "|      Åland Islands|     AX|    ALA|         248|ISO 3166-2:AX|  Europe|     Northern Europe|               NULL|        150|            154|                    NULL|  Europe|\n",
      "|            Albania|     AL|    ALB|           8|ISO 3166-2:AL|  Europe|     Southern Europe|               NULL|        150|             39|                    NULL|  Europe|\n",
      "|            Algeria|     DZ|    DZA|          12|ISO 3166-2:DZ|  Africa|     Northern Africa|               NULL|          2|             15|                    NULL|  Africa|\n",
      "|     American Samoa|     AS|    ASM|          16|ISO 3166-2:AS| Oceania|           Polynesia|               NULL|          9|             61|                    NULL| Oceania|\n",
      "|            Andorra|     AD|    AND|          20|ISO 3166-2:AD|  Europe|     Southern Europe|               NULL|        150|             39|                    NULL|  Europe|\n",
      "|             Angola|     AO|    AGO|          24|ISO 3166-2:AO|  Africa|  Sub-Saharan Africa|      Middle Africa|          2|            202|                      17|  Africa|\n",
      "|           Anguilla|     AI|    AIA|         660|ISO 3166-2:AI|Americas|Latin America and...|          Caribbean|         19|            419|                      29|Americas|\n",
      "|         Antarctica|     AQ|    ATA|          10|ISO 3166-2:AQ|    NULL|                NULL|               NULL|       NULL|           NULL|                    NULL|    NULL|\n",
      "|Antigua and Barbuda|     AG|    ATG|          28|ISO 3166-2:AG|Americas|Latin America and...|          Caribbean|         19|            419|                      29|Americas|\n",
      "|          Argentina|     AR|    ARG|          32|ISO 3166-2:AR|Americas|Latin America and...|      South America|         19|            419|                       5|Americas|\n",
      "|            Armenia|     AM|    ARM|          51|ISO 3166-2:AM|    Asia|        Western Asia|               NULL|        142|            145|                    NULL|    Asia|\n",
      "|              Aruba|     AW|    ABW|         533|ISO 3166-2:AW|Americas|Latin America and...|          Caribbean|         19|            419|                      29|Americas|\n",
      "|          Australia|     AU|    AUS|          36|ISO 3166-2:AU| Oceania|Australia and New...|               NULL|          9|             53|                    NULL| Oceania|\n",
      "|            Austria|     AT|    AUT|          40|ISO 3166-2:AT|  Europe|      Western Europe|               NULL|        150|            155|                    NULL|  Europe|\n",
      "|         Azerbaijan|     AZ|    AZE|          31|ISO 3166-2:AZ|    Asia|        Western Asia|               NULL|        142|            145|                    NULL|    Asia|\n",
      "|            Bahamas|     BS|    BHS|          44|ISO 3166-2:BS|Americas|Latin America and...|          Caribbean|         19|            419|                      29|Americas|\n",
      "|            Bahrain|     BH|    BHR|          48|ISO 3166-2:BH|    Asia|        Western Asia|               NULL|        142|            145|                    NULL|    Asia|\n",
      "|         Bangladesh|     BD|    BGD|          50|ISO 3166-2:BD|    Asia|       Southern Asia|               NULL|        142|             34|                    NULL|    Asia|\n",
      "|           Barbados|     BB|    BRB|          52|ISO 3166-2:BB|Americas|Latin America and...|          Caribbean|         19|            419|                      29|Americas|\n",
      "+-------------------+-------+-------+------------+-------------+--------+--------------------+-------------------+-----------+---------------+------------------------+--------+\n",
      "only showing top 20 rows\n",
      "\n"
     ]
    }
   ],
   "source": [
    "df_pyspark.show()"
   ]
  },
  {
   "cell_type": "code",
   "execution_count": 66,
   "metadata": {},
   "outputs": [],
   "source": [
    "## drop a column\n",
    "df_pyspark = df_pyspark.drop('city')"
   ]
  },
  {
   "cell_type": "code",
   "execution_count": 67,
   "metadata": {},
   "outputs": [
    {
     "name": "stdout",
     "output_type": "stream",
     "text": [
      "+-------------------+-------+-------+------------+-------------+--------+--------------------+-------------------+-----------+---------------+------------------------+\n",
      "|               name|alpha-2|alpha-3|country-code|   iso_3166-2|  region|          sub-region|intermediate-region|region-code|sub-region-code|intermediate-region-code|\n",
      "+-------------------+-------+-------+------------+-------------+--------+--------------------+-------------------+-----------+---------------+------------------------+\n",
      "|        Afghanistan|     AF|    AFG|           4|ISO 3166-2:AF|    Asia|       Southern Asia|               NULL|        142|             34|                    NULL|\n",
      "|      Åland Islands|     AX|    ALA|         248|ISO 3166-2:AX|  Europe|     Northern Europe|               NULL|        150|            154|                    NULL|\n",
      "|            Albania|     AL|    ALB|           8|ISO 3166-2:AL|  Europe|     Southern Europe|               NULL|        150|             39|                    NULL|\n",
      "|            Algeria|     DZ|    DZA|          12|ISO 3166-2:DZ|  Africa|     Northern Africa|               NULL|          2|             15|                    NULL|\n",
      "|     American Samoa|     AS|    ASM|          16|ISO 3166-2:AS| Oceania|           Polynesia|               NULL|          9|             61|                    NULL|\n",
      "|            Andorra|     AD|    AND|          20|ISO 3166-2:AD|  Europe|     Southern Europe|               NULL|        150|             39|                    NULL|\n",
      "|             Angola|     AO|    AGO|          24|ISO 3166-2:AO|  Africa|  Sub-Saharan Africa|      Middle Africa|          2|            202|                      17|\n",
      "|           Anguilla|     AI|    AIA|         660|ISO 3166-2:AI|Americas|Latin America and...|          Caribbean|         19|            419|                      29|\n",
      "|         Antarctica|     AQ|    ATA|          10|ISO 3166-2:AQ|    NULL|                NULL|               NULL|       NULL|           NULL|                    NULL|\n",
      "|Antigua and Barbuda|     AG|    ATG|          28|ISO 3166-2:AG|Americas|Latin America and...|          Caribbean|         19|            419|                      29|\n",
      "|          Argentina|     AR|    ARG|          32|ISO 3166-2:AR|Americas|Latin America and...|      South America|         19|            419|                       5|\n",
      "|            Armenia|     AM|    ARM|          51|ISO 3166-2:AM|    Asia|        Western Asia|               NULL|        142|            145|                    NULL|\n",
      "|              Aruba|     AW|    ABW|         533|ISO 3166-2:AW|Americas|Latin America and...|          Caribbean|         19|            419|                      29|\n",
      "|          Australia|     AU|    AUS|          36|ISO 3166-2:AU| Oceania|Australia and New...|               NULL|          9|             53|                    NULL|\n",
      "|            Austria|     AT|    AUT|          40|ISO 3166-2:AT|  Europe|      Western Europe|               NULL|        150|            155|                    NULL|\n",
      "|         Azerbaijan|     AZ|    AZE|          31|ISO 3166-2:AZ|    Asia|        Western Asia|               NULL|        142|            145|                    NULL|\n",
      "|            Bahamas|     BS|    BHS|          44|ISO 3166-2:BS|Americas|Latin America and...|          Caribbean|         19|            419|                      29|\n",
      "|            Bahrain|     BH|    BHR|          48|ISO 3166-2:BH|    Asia|        Western Asia|               NULL|        142|            145|                    NULL|\n",
      "|         Bangladesh|     BD|    BGD|          50|ISO 3166-2:BD|    Asia|       Southern Asia|               NULL|        142|             34|                    NULL|\n",
      "|           Barbados|     BB|    BRB|          52|ISO 3166-2:BB|Americas|Latin America and...|          Caribbean|         19|            419|                      29|\n",
      "+-------------------+-------+-------+------------+-------------+--------+--------------------+-------------------+-----------+---------------+------------------------+\n",
      "only showing top 20 rows\n",
      "\n"
     ]
    }
   ],
   "source": [
    "df_pyspark.show()"
   ]
  },
  {
   "cell_type": "code",
   "execution_count": 69,
   "metadata": {},
   "outputs": [],
   "source": [
    "## Rename a column\n",
    "df_pyspark = df_pyspark.withColumnRenamed('region', 'continent')"
   ]
  },
  {
   "cell_type": "code",
   "execution_count": 70,
   "metadata": {},
   "outputs": [
    {
     "name": "stdout",
     "output_type": "stream",
     "text": [
      "+-------------------+-------+-------+------------+-------------+---------+--------------------+-------------------+-----------+---------------+------------------------+\n",
      "|               name|alpha-2|alpha-3|country-code|   iso_3166-2|continent|          sub-region|intermediate-region|region-code|sub-region-code|intermediate-region-code|\n",
      "+-------------------+-------+-------+------------+-------------+---------+--------------------+-------------------+-----------+---------------+------------------------+\n",
      "|        Afghanistan|     AF|    AFG|           4|ISO 3166-2:AF|     Asia|       Southern Asia|               NULL|        142|             34|                    NULL|\n",
      "|      Åland Islands|     AX|    ALA|         248|ISO 3166-2:AX|   Europe|     Northern Europe|               NULL|        150|            154|                    NULL|\n",
      "|            Albania|     AL|    ALB|           8|ISO 3166-2:AL|   Europe|     Southern Europe|               NULL|        150|             39|                    NULL|\n",
      "|            Algeria|     DZ|    DZA|          12|ISO 3166-2:DZ|   Africa|     Northern Africa|               NULL|          2|             15|                    NULL|\n",
      "|     American Samoa|     AS|    ASM|          16|ISO 3166-2:AS|  Oceania|           Polynesia|               NULL|          9|             61|                    NULL|\n",
      "|            Andorra|     AD|    AND|          20|ISO 3166-2:AD|   Europe|     Southern Europe|               NULL|        150|             39|                    NULL|\n",
      "|             Angola|     AO|    AGO|          24|ISO 3166-2:AO|   Africa|  Sub-Saharan Africa|      Middle Africa|          2|            202|                      17|\n",
      "|           Anguilla|     AI|    AIA|         660|ISO 3166-2:AI| Americas|Latin America and...|          Caribbean|         19|            419|                      29|\n",
      "|         Antarctica|     AQ|    ATA|          10|ISO 3166-2:AQ|     NULL|                NULL|               NULL|       NULL|           NULL|                    NULL|\n",
      "|Antigua and Barbuda|     AG|    ATG|          28|ISO 3166-2:AG| Americas|Latin America and...|          Caribbean|         19|            419|                      29|\n",
      "|          Argentina|     AR|    ARG|          32|ISO 3166-2:AR| Americas|Latin America and...|      South America|         19|            419|                       5|\n",
      "|            Armenia|     AM|    ARM|          51|ISO 3166-2:AM|     Asia|        Western Asia|               NULL|        142|            145|                    NULL|\n",
      "|              Aruba|     AW|    ABW|         533|ISO 3166-2:AW| Americas|Latin America and...|          Caribbean|         19|            419|                      29|\n",
      "|          Australia|     AU|    AUS|          36|ISO 3166-2:AU|  Oceania|Australia and New...|               NULL|          9|             53|                    NULL|\n",
      "|            Austria|     AT|    AUT|          40|ISO 3166-2:AT|   Europe|      Western Europe|               NULL|        150|            155|                    NULL|\n",
      "|         Azerbaijan|     AZ|    AZE|          31|ISO 3166-2:AZ|     Asia|        Western Asia|               NULL|        142|            145|                    NULL|\n",
      "|            Bahamas|     BS|    BHS|          44|ISO 3166-2:BS| Americas|Latin America and...|          Caribbean|         19|            419|                      29|\n",
      "|            Bahrain|     BH|    BHR|          48|ISO 3166-2:BH|     Asia|        Western Asia|               NULL|        142|            145|                    NULL|\n",
      "|         Bangladesh|     BD|    BGD|          50|ISO 3166-2:BD|     Asia|       Southern Asia|               NULL|        142|             34|                    NULL|\n",
      "|           Barbados|     BB|    BRB|          52|ISO 3166-2:BB| Americas|Latin America and...|          Caribbean|         19|            419|                      29|\n",
      "+-------------------+-------+-------+------------+-------------+---------+--------------------+-------------------+-----------+---------------+------------------------+\n",
      "only showing top 20 rows\n",
      "\n"
     ]
    }
   ],
   "source": [
    "df_pyspark.show()"
   ]
  },
  {
   "cell_type": "markdown",
   "metadata": {},
   "source": [
    "### Pyspark Handling  Missing Values\n",
    "- dropping columns based on NULL values\n",
    "- dropping rows based on NULL values\n",
    "- various parameter in dropping functionalities \n",
    "- handling missing values by mean, median and mode"
   ]
  },
  {
   "cell_type": "markdown",
   "metadata": {},
   "source": []
  }
 ],
 "metadata": {
  "kernelspec": {
   "display_name": "venv",
   "language": "python",
   "name": "python3"
  },
  "language_info": {
   "codemirror_mode": {
    "name": "ipython",
    "version": 3
   },
   "file_extension": ".py",
   "mimetype": "text/x-python",
   "name": "python",
   "nbconvert_exporter": "python",
   "pygments_lexer": "ipython3",
   "version": "3.9.19"
  }
 },
 "nbformat": 4,
 "nbformat_minor": 2
}
